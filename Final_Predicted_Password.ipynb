{
 "cells": [
  {
   "cell_type": "code",
   "execution_count": 2,
   "metadata": {},
   "outputs": [],
   "source": [
    "import pandas as pd\n",
    "import matplotlib\n",
    "import csv\n",
    "import numpy as np"
   ]
  },
  {
   "cell_type": "code",
   "execution_count": 7,
   "metadata": {},
   "outputs": [],
   "source": [
    "def final_prediction(x):\n",
    "    freq_matrix = np.asarray(x)\n",
    "    prob_list = list()\n",
    "    for i in range(0,10):\n",
    "        for j in range(0,10):\n",
    "            for k in range(0, 10):\n",
    "                for l in range(0, 10):\n",
    "                    prob_list.append(freq_matrix[0, i] * freq_matrix[1, j] * freq_matrix[2, k] * freq_matrix[3, l])\n",
    "    \n",
    "    prob_vector = np.asarray(prob_list)\n",
    "    \n",
    "    pin_freq_list = list()\n",
    "    \n",
    "    pin_list = list()\n",
    "        \n",
    "    with open('4digit_pin_probabilities.csv') as csv_file:\n",
    "        pin_frequencies = csv.reader(csv_file, delimiter=',')\n",
    "        for row in pin_frequencies:\n",
    "            pin_freq_list.append(float(row[1]))\n",
    "            pin_list.append(row[0])\n",
    "    freq_vector = np.asarray(pin_freq_list)\n",
    "    \n",
    "#     print (freq_vector.shape)\n",
    "#     print (prob_vector.shape)\n",
    "    \n",
    "    final_probabilties = freq_vector * prob_vector\n",
    "    \n",
    "    pin_array = np.asarray(pin_list)\n",
    "    \n",
    "    max_index = np.argmax(final_probabilties)\n",
    "    \n",
    "    return pin_list[max_index]"
   ]
  },
  {
   "cell_type": "code",
   "execution_count": 8,
   "metadata": {},
   "outputs": [
    {
     "data": {
      "text/plain": [
       "'0000'"
      ]
     },
     "execution_count": 8,
     "metadata": {},
     "output_type": "execute_result"
    }
   ],
   "source": [
    "x = [[1, 0.1, 0.2, 0.3, 0.4, 0.7, 0.5, 0.6, 0.9, 0.6], [1, 0.1, 0.2, 0.3, 0.4, 0.2, 0.5, 0.6, 0.3, 0.6], [1, 0.1, 0.2, 0.3, 0.4, 0.2, 0.5, 0.6, 0.3, 0.6], [1, 0.1, 0.2, 0.3, 0.4, 0.2, 0.5, 0.6, 0.3, 0.6]]\n",
    "final_prediction(x)"
   ]
  }
 ],
 "metadata": {
  "kernelspec": {
   "display_name": "Python [conda env:anaconda]",
   "language": "python",
   "name": "conda-env-anaconda-py"
  },
  "language_info": {
   "codemirror_mode": {
    "name": "ipython",
    "version": 3
   },
   "file_extension": ".py",
   "mimetype": "text/x-python",
   "name": "python",
   "nbconvert_exporter": "python",
   "pygments_lexer": "ipython3",
   "version": "3.5.5"
  }
 },
 "nbformat": 4,
 "nbformat_minor": 1
}
