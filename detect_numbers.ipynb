{
 "cells": [
  {
   "cell_type": "code",
   "execution_count": 11,
   "metadata": {},
   "outputs": [],
   "source": [
    "import numpy as np\n",
    "from PIL import Image"
   ]
  },
  {
   "cell_type": "code",
   "execution_count": 144,
   "metadata": {},
   "outputs": [],
   "source": [
    "images = ['0.png', '1.png', '2.png', '3.png', '4.png', '5.png', '6.png', '7.png', '8.png', '9.png']"
   ]
  },
  {
   "cell_type": "code",
   "execution_count": 52,
   "metadata": {},
   "outputs": [
    {
     "name": "stdout",
     "output_type": "stream",
     "text": [
      "False\n",
      "True\n",
      "False\n",
      "False\n",
      "False\n",
      "False\n",
      "False\n",
      "False\n"
     ]
    }
   ],
   "source": [
    "# 0\n",
    "for img in images:\n",
    "    print(np.average(np.asarray(Image.open(img))[1600, 1380//2]) > 180)\n",
    "\n",
    "# 1\n",
    "for img in images:\n",
    "    print(np.average(np.asarray(Image.open(img))[2278//3, 1380//3]) > 150)\n",
    "\n",
    "# 2\n",
    "for img in images:\n",
    "    print(np.average(np.asarray(Image.open(img))[2278//3, 1380//2]) > 200)\n",
    "\n",
    "# 3\n",
    "for img in images:\n",
    "    print(np.average(np.asarray(Image.open(img))[2278//3, 920]) > 170)\n",
    "\n",
    "# 4\n",
    "for img in images:\n",
    "    print(np.average(np.asarray(Image.open(img))[2278//2, 1380//3]) > 160)\n",
    "    \n",
    "# 5\n",
    "for img in images:\n",
    "    print(np.average(np.asarray(Image.open(img))[2278//2, 1380//2]) > 190)\n",
    "\n",
    "# 6\n",
    "for img in images:\n",
    "    print(np.average(np.asarray(Image.open(img))[2278//2, 920]) > 170)\n",
    "    \n",
    "# 7\n",
    "for img in images:\n",
    "    print(np.average(np.asarray(Image.open(img))[1400, 1380//3]) > 200)\n",
    "    \n",
    "# 8\n",
    "for img in images:\n",
    "    print(np.average(np.asarray(Image.open(img))[1400, 1380//2]) > 200)\n",
    "    \n",
    "# 9\n",
    "for img in images:\n",
    "    print(np.average(np.asarray(Image.open(img))[1400, 920]) > 170)"
   ]
  }
 ],
 "metadata": {
  "kernelspec": {
   "display_name": "Python [conda env:anaconda]",
   "language": "python",
   "name": "conda-env-anaconda-py"
  },
  "language_info": {
   "codemirror_mode": {
    "name": "ipython",
    "version": 3
   },
   "file_extension": ".py",
   "mimetype": "text/x-python",
   "name": "python",
   "nbconvert_exporter": "python",
   "pygments_lexer": "ipython3",
   "version": "3.5.5"
  }
 },
 "nbformat": 4,
 "nbformat_minor": 2
}
