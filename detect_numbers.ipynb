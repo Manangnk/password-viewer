{
 "cells": [
  {
   "cell_type": "code",
   "execution_count": 1,
   "metadata": {},
   "outputs": [],
   "source": [
    "import numpy as np\n",
    "from PIL import Image\n",
    "from glob import glob\n",
    "import re\n",
    "import json\n",
    "from tqdm import tqdm_notebook as tqdm\n",
    "from collections import *"
   ]
  },
  {
   "cell_type": "code",
   "execution_count": 2,
   "metadata": {},
   "outputs": [],
   "source": [
    "images = ['./data/0.png', './data/1.png', './data/2.png', './data/3.png', './data/4.png', './data/5.png', './data/6.png', './data/7.png', './data/8.png', './data/9.png']"
   ]
  },
  {
   "cell_type": "code",
   "execution_count": 3,
   "metadata": {},
   "outputs": [],
   "source": [
    "rows = [490, 667, 850, 1034]\n",
    "cols = [118, 330, 540]"
   ]
  },
  {
   "cell_type": "code",
   "execution_count": 4,
   "metadata": {},
   "outputs": [],
   "source": [
    "pixel_locs = [\n",
    "     [rows[3], cols[1]], \n",
    "     [rows[0], cols[0]], \n",
    "     [rows[0], cols[1]], \n",
    "     [rows[0], cols[2]], \n",
    "     [rows[1], cols[0]],\n",
    "     [rows[1], cols[1]],\n",
    "     [rows[1], cols[2]],\n",
    "     [rows[2], cols[0]],\n",
    "     [rows[2], cols[1]], \n",
    "     [rows[2], cols[2]]\n",
    "    ]"
   ]
  },
  {
   "cell_type": "code",
   "execution_count": 5,
   "metadata": {},
   "outputs": [],
   "source": [
    "#thresholds = [x/3 * 2 for x in [180, 150, 200, 170, 160, 190, 170, 200, 200, 170]]"
   ]
  },
  {
   "cell_type": "code",
   "execution_count": 6,
   "metadata": {},
   "outputs": [],
   "source": [
    "def classify_image(path):\n",
    "    hits = []\n",
    "    opened_img = np.asarray(Image.open(path))\n",
    "    for i in range(10):\n",
    "        avg = np.average(opened_img[int(pixel_locs[i][0]), int(pixel_locs[i][1])]) \n",
    "        #print(i, avg)\n",
    "        if avg > 50:\n",
    "            hits.append(i)\n",
    "    if len(hits) >= 1:\n",
    "        return hits[0]\n",
    "    elif len(hits) == 0:\n",
    "        return 10\n",
    "    else:\n",
    "        raise Exception(f'Multiple classes for image {path}')\n",
    "    return hits"
   ]
  },
  {
   "cell_type": "code",
   "execution_count": 7,
   "metadata": {},
   "outputs": [],
   "source": [
    "#classify_image('./data/vidya/image-00120.jpg')"
   ]
  },
  {
   "cell_type": "code",
   "execution_count": 8,
   "metadata": {},
   "outputs": [],
   "source": [
    "#[classify_image(x) for x in images]"
   ]
  },
  {
   "cell_type": "code",
   "execution_count": 9,
   "metadata": {},
   "outputs": [],
   "source": [
    "def classify_many(person_path, screen_path, frames_person_ahead_of_screen, out_path):\n",
    "    #framerates are 23.12 (person) and 59.87 (screen)\n",
    "    person_files = sorted(glob(person_path), key=lambda x: int(re.findall('\\d+', x)[0]))\n",
    "    screen_files = sorted(glob(screen_path), key=lambda x: int(re.findall('\\d+', x)[0]))\n",
    "    truth_at_person_frame = defaultdict(lambda: 10)\n",
    "    \n",
    "    counter = -1 * frames_person_ahead_of_screen\n",
    "    for f in tqdm(screen_files):\n",
    "        result = classify_image(f)\n",
    "        truth_at_person_frame[counter] = result\n",
    "        counter += 1\n",
    "        #print(result)\n",
    "\n",
    "    with open(out_path, 'w') as out_f:\n",
    "        out_f.write(\"id,val\\n\")\n",
    "        \n",
    "        for p in range(len(person_files)):\n",
    "            out_f.write(f'{p}, class_{truth_at_person_frame[p]}\\n')"
   ]
  },
  {
   "cell_type": "code",
   "execution_count": null,
   "metadata": {},
   "outputs": [],
   "source": []
  },
  {
   "cell_type": "code",
   "execution_count": null,
   "metadata": {},
   "outputs": [],
   "source": []
  },
  {
   "cell_type": "code",
   "execution_count": 10,
   "metadata": {},
   "outputs": [
    {
     "data": {
      "application/vnd.jupyter.widget-view+json": {
       "model_id": "c25cf584be464b93baa5a5a5967a5001",
       "version_major": 2,
       "version_minor": 0
      },
      "text/plain": [
       "HBox(children=(IntProgress(value=0, max=4226), HTML(value='')))"
      ]
     },
     "metadata": {},
     "output_type": "display_data"
    },
    {
     "name": "stdout",
     "output_type": "stream",
     "text": [
      "\n"
     ]
    }
   ],
   "source": [
    "classify_many('./data/vidya/person/*.jpg', './data/vidya/screen/*.jpg', 312-21, './data/y3.csv')"
   ]
  },
  {
   "cell_type": "code",
   "execution_count": null,
   "metadata": {},
   "outputs": [],
   "source": []
  }
 ],
 "metadata": {
  "kernelspec": {
   "display_name": "Python 3",
   "language": "python",
   "name": "python3"
  },
  "language_info": {
   "codemirror_mode": {
    "name": "ipython",
    "version": 3
   },
   "file_extension": ".py",
   "mimetype": "text/x-python",
   "name": "python",
   "nbconvert_exporter": "python",
   "pygments_lexer": "ipython3",
   "version": "3.6.5"
  }
 },
 "nbformat": 4,
 "nbformat_minor": 2
}
