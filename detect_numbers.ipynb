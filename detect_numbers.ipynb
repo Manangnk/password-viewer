{
 "cells": [
  {
   "cell_type": "code",
   "execution_count": 54,
   "metadata": {},
   "outputs": [],
   "source": [
    "import numpy as np\n",
    "from PIL import Image\n",
    "from glob import glob\n",
    "import re\n",
    "import json"
   ]
  },
  {
   "cell_type": "code",
   "execution_count": 8,
   "metadata": {},
   "outputs": [],
   "source": [
    "images = ['./data/0.png', './data/1.png', './data/2.png', './data/3.png', './data/4.png', './data/5.png', './data/6.png', './data/7.png', './data/8.png', './data/9.png']"
   ]
  },
  {
   "cell_type": "code",
   "execution_count": null,
   "metadata": {},
   "outputs": [],
   "source": []
  },
  {
   "cell_type": "code",
   "execution_count": 10,
   "metadata": {},
   "outputs": [],
   "source": [
    "pixel_locs = [[1600, 1380//2], [2278//3, 1380//3], [2278//3, 1380//2], [2278//3, 920], [2278//2, 1380//3], [2278//2, 1380//2], [2278//2, 920], [1400, 1380//3], [1400, 1380//2], [1400, 920]]"
   ]
  },
  {
   "cell_type": "code",
   "execution_count": 11,
   "metadata": {},
   "outputs": [],
   "source": [
    "thresholds = [180, 150, 200, 170, 160, 190, 170, 200, 200, 170]"
   ]
  },
  {
   "cell_type": "code",
   "execution_count": 61,
   "metadata": {},
   "outputs": [],
   "source": [
    "def classify_image(path):\n",
    "    hits = []\n",
    "    opened_img = np.asarray(Image.open(path))\n",
    "    for i in range(10):\n",
    "        if np.average(opened_img[pixel_locs[i][0], pixel_locs[i][1]]) > thresholds[i]:\n",
    "            hits.append(i)\n",
    "    if len(hits) == 1:\n",
    "        return hits[0]\n",
    "    elif len(hits) == 0:\n",
    "        return -1\n",
    "    else:\n",
    "        raise Exception(f'Multiple classes for image {path}')\n",
    "    return hits"
   ]
  },
  {
   "cell_type": "code",
   "execution_count": 62,
   "metadata": {},
   "outputs": [
    {
     "data": {
      "text/plain": [
       "[0, 1, 2, 3, 4, 5, 6, 7, 8, 9]"
      ]
     },
     "execution_count": 62,
     "metadata": {},
     "output_type": "execute_result"
    }
   ],
   "source": [
    "[classify_image(x) for x in images]"
   ]
  },
  {
   "cell_type": "code",
   "execution_count": 70,
   "metadata": {},
   "outputs": [],
   "source": [
    "def classify_many(path, out_path):\n",
    "    files = sorted(glob(path), key=lambda x: int(re.findall('\\d+', x)[0]))\n",
    "    out = []\n",
    "    for f in files:\n",
    "        out.append(classify_image(f))\n",
    "    \n",
    "    with open(out_path, 'w') as out_f:\n",
    "        out_f.write('\\n'.join([str(x) for x in out]))\n",
    "    \n",
    "    return out"
   ]
  },
  {
   "cell_type": "code",
   "execution_count": 71,
   "metadata": {},
   "outputs": [
    {
     "data": {
      "text/plain": [
       "[0, 1, 2, 3, 4, 5, 6, 7, 8, 9, 1]"
      ]
     },
     "execution_count": 71,
     "metadata": {},
     "output_type": "execute_result"
    }
   ],
   "source": [
    "classify_many('./data/*.png', './data/y.csv')"
   ]
  },
  {
   "cell_type": "code",
   "execution_count": 29,
   "metadata": {},
   "outputs": [
    {
     "name": "stdout",
     "output_type": "stream",
     "text": [
      "True\n",
      "False\n",
      "False\n",
      "False\n",
      "False\n",
      "False\n",
      "False\n",
      "False\n",
      "False\n",
      "False\n",
      "False\n",
      "True\n",
      "False\n",
      "False\n",
      "False\n",
      "False\n",
      "False\n",
      "False\n",
      "False\n",
      "False\n",
      "False\n",
      "False\n",
      "True\n",
      "False\n",
      "False\n",
      "False\n",
      "False\n",
      "False\n"
     ]
    },
    {
     "ename": "IndexError",
     "evalue": "too many indices for array",
     "output_type": "error",
     "traceback": [
      "\u001b[0;31m---------------------------------------------------------------------------\u001b[0m",
      "\u001b[0;31mIndexError\u001b[0m                                Traceback (most recent call last)",
      "\u001b[0;32m<ipython-input-29-6d1843063665>\u001b[0m in \u001b[0;36m<module>\u001b[0;34m()\u001b[0m\n\u001b[1;32m      9\u001b[0m \u001b[0;31m# 2\u001b[0m\u001b[0;34m\u001b[0m\u001b[0;34m\u001b[0m\u001b[0m\n\u001b[1;32m     10\u001b[0m \u001b[0;32mfor\u001b[0m \u001b[0mimg\u001b[0m \u001b[0;32min\u001b[0m \u001b[0mimages\u001b[0m\u001b[0;34m:\u001b[0m\u001b[0;34m\u001b[0m\u001b[0m\n\u001b[0;32m---> 11\u001b[0;31m     \u001b[0mprint\u001b[0m\u001b[0;34m(\u001b[0m\u001b[0mnp\u001b[0m\u001b[0;34m.\u001b[0m\u001b[0maverage\u001b[0m\u001b[0;34m(\u001b[0m\u001b[0mnp\u001b[0m\u001b[0;34m.\u001b[0m\u001b[0masarray\u001b[0m\u001b[0;34m(\u001b[0m\u001b[0mImage\u001b[0m\u001b[0;34m.\u001b[0m\u001b[0mopen\u001b[0m\u001b[0;34m(\u001b[0m\u001b[0mimg\u001b[0m\u001b[0;34m)\u001b[0m\u001b[0;34m)\u001b[0m\u001b[0;34m[\u001b[0m\u001b[0;36m2278\u001b[0m\u001b[0;34m//\u001b[0m\u001b[0;36m3\u001b[0m\u001b[0;34m,\u001b[0m \u001b[0;36m1380\u001b[0m\u001b[0;34m//\u001b[0m\u001b[0;36m2\u001b[0m\u001b[0;34m]\u001b[0m\u001b[0;34m)\u001b[0m \u001b[0;34m>\u001b[0m \u001b[0;36m200\u001b[0m\u001b[0;34m)\u001b[0m\u001b[0;34m\u001b[0m\u001b[0m\n\u001b[0m\u001b[1;32m     12\u001b[0m \u001b[0;34m\u001b[0m\u001b[0m\n\u001b[1;32m     13\u001b[0m \u001b[0;31m# 3\u001b[0m\u001b[0;34m\u001b[0m\u001b[0;34m\u001b[0m\u001b[0m\n",
      "\u001b[0;31mIndexError\u001b[0m: too many indices for array"
     ]
    }
   ],
   "source": [
    "# 0\n",
    "for img in images:\n",
    "    print(np.average(np.asarray(Image.open(img))[1600, 1380//2]) > 180)\n",
    "\n",
    "# 1\n",
    "for img in images:\n",
    "    print(np.average(np.asarray(Image.open(img))[2278//3, 1380//3]) > 150)\n",
    "\n",
    "# 2\n",
    "for img in images:\n",
    "    print(np.average(np.asarray(Image.open(img))[2278//3, 1380//2]) > 200)\n",
    "\n",
    "# 3\n",
    "for img in images:\n",
    "    print(np.average(np.asarray(Image.open(img))[2278//3, 920]) > 170)\n",
    "\n",
    "# 4\n",
    "for img in images:\n",
    "    print(np.average(np.asarray(Image.open(img))[2278//2, 1380//3]) > 160)\n",
    "    \n",
    "# 5\n",
    "for img in images:\n",
    "    print(np.average(np.asarray(Image.open(img))[2278//2, 1380//2]) > 190)\n",
    "\n",
    "# 6\n",
    "for img in images:\n",
    "    print(np.average(np.asarray(Image.open(img))[2278//2, 920]) > 170)\n",
    "    \n",
    "# 7\n",
    "for img in images:\n",
    "    print(np.average(np.asarray(Image.open(img))[1400, 1380//3]) > 200)\n",
    "    \n",
    "# 8\n",
    "for img in images:\n",
    "    print(np.average(np.asarray(Image.open(img))[1400, 1380//2]) > 200)\n",
    "    \n",
    "# 9\n",
    "for img in images:\n",
    "    print(np.average(np.asarray(Image.open(img))[1400, 920]) > 170)"
   ]
  },
  {
   "cell_type": "code",
   "execution_count": null,
   "metadata": {},
   "outputs": [],
   "source": []
  }
 ],
 "metadata": {
  "kernelspec": {
   "display_name": "Python 3",
   "language": "python",
   "name": "python3"
  },
  "language_info": {
   "codemirror_mode": {
    "name": "ipython",
    "version": 3
   },
   "file_extension": ".py",
   "mimetype": "text/x-python",
   "name": "python",
   "nbconvert_exporter": "python",
   "pygments_lexer": "ipython3",
   "version": "3.6.5"
  }
 },
 "nbformat": 4,
 "nbformat_minor": 2
}
