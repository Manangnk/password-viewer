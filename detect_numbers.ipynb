{
 "cells": [
  {
   "cell_type": "code",
   "execution_count": 1,
   "metadata": {},
   "outputs": [],
   "source": [
    "import numpy as np\n",
    "from PIL import Image\n",
    "from glob import glob\n",
    "import re\n",
    "import json\n",
    "from tqdm import tqdm_notebook as tqdm\n",
    "from collections import *"
   ]
  },
  {
   "cell_type": "code",
   "execution_count": 2,
   "metadata": {},
   "outputs": [],
   "source": [
    "images = ['./data/0.png', './data/1.png', './data/2.png', './data/3.png', './data/4.png', './data/5.png', './data/6.png', './data/7.png', './data/8.png', './data/9.png']"
   ]
  },
  {
   "cell_type": "code",
   "execution_count": 3,
   "metadata": {},
   "outputs": [],
   "source": [
    "rows = [490, 667, 850, 1034]\n",
    "cols = [118, 330, 540]"
   ]
  },
  {
   "cell_type": "code",
   "execution_count": 4,
   "metadata": {},
   "outputs": [],
   "source": [
    "pixel_locs = [\n",
    "     [rows[3], cols[1]], \n",
    "     [rows[0], cols[0]], \n",
    "     [rows[0], cols[1]], \n",
    "     [rows[0], cols[2]], \n",
    "     [rows[1], cols[0]],\n",
    "     [rows[1], cols[1]],\n",
    "     [rows[1], cols[2]],\n",
    "     [rows[2], cols[0]],\n",
    "     [rows[2], cols[1]], \n",
    "     [rows[2], cols[2]]\n",
    "    ]"
   ]
  },
  {
   "cell_type": "code",
   "execution_count": 5,
   "metadata": {},
   "outputs": [],
   "source": [
    "#thresholds = [x/3 * 2 for x in [180, 150, 200, 170, 160, 190, 170, 200, 200, 170]]"
   ]
  },
  {
   "cell_type": "code",
   "execution_count": 66,
   "metadata": {},
   "outputs": [],
   "source": [
    "def have_any_increased(last, current):\n",
    "    try:\n",
    "        for i in range(10):\n",
    "            if current[i] > last[i] + 20:\n",
    "                return i\n",
    "        return None\n",
    "    except:\n",
    "        return None"
   ]
  },
  {
   "cell_type": "code",
   "execution_count": 67,
   "metadata": {},
   "outputs": [],
   "source": [
    "have_any_increased({0: 1, 1: 2}, {0: 1, 1: 3})"
   ]
  },
  {
   "cell_type": "code",
   "execution_count": 68,
   "metadata": {},
   "outputs": [],
   "source": [
    "def classify_image(path, lastvals):\n",
    "    hits = []\n",
    "    opened_img = np.asarray(Image.open(path))\n",
    "    vals = {}\n",
    "    \n",
    "    for i in range(10):\n",
    "        avg = np.average(opened_img[int(pixel_locs[i][0]), int(pixel_locs[i][1])]) \n",
    "        #print(i, avg)\n",
    "        vals[i] = avg\n",
    "    \n",
    "    incr = have_any_increased(lastvals, vals)\n",
    "    if incr:\n",
    "        return incr, vals\n",
    "    else:\n",
    "        return 10, vals\n",
    "    \n",
    "    #if len(hits) >= 1:\n",
    "    #    #print('hit')\n",
    "    #    return hits[0]\n",
    "    #elif len(hits) == 0:\n",
    "    ##    #print('miss')\n",
    "    #    return 10\n",
    "    #else:\n",
    "    #    raise Exception(f'Multiple classes for image {path}')\n",
    "    #return (hits, vals)"
   ]
  },
  {
   "cell_type": "code",
   "execution_count": 69,
   "metadata": {},
   "outputs": [],
   "source": [
    "#classify_image('./data/vidya/image-00120.jpg')"
   ]
  },
  {
   "cell_type": "code",
   "execution_count": 70,
   "metadata": {},
   "outputs": [],
   "source": [
    "#[classify_image(x) for x in images]"
   ]
  },
  {
   "cell_type": "code",
   "execution_count": 75,
   "metadata": {},
   "outputs": [],
   "source": [
    "def classify_many(person_path, screen_path, frames_person_ahead_of_screen, out_path):\n",
    "    #framerates are 23.12 (person) and 59.87 (screen)\n",
    "    person_files = sorted(glob(person_path), key=lambda x: int(re.findall('\\d+', x)[0]))\n",
    "    screen_files = sorted(glob(screen_path), key=lambda x: int(re.findall('\\d+', x)[0]))\n",
    "    truth_at_person_frame = defaultdict(lambda: 10)\n",
    "        \n",
    "    counter = -1 * frames_person_ahead_of_screen\n",
    "    last_vals = {}\n",
    "    for f in tqdm(screen_files):\n",
    "        result, last_vals = classify_image(f, last_vals)\n",
    "                \n",
    "        truth_at_person_frame[counter] = result\n",
    "        #print(counter, result)\n",
    "        counter += 1\n",
    "        #print(result)\n",
    "\n",
    "    with open(out_path, 'w') as out_f:\n",
    "        out_f.write(\"id,val\\n\")\n",
    "                \n",
    "        for p in range(len(person_files)):\n",
    "            out_f.write(f'{p},class_{truth_at_person_frame[p]}\\n')"
   ]
  },
  {
   "cell_type": "code",
   "execution_count": null,
   "metadata": {},
   "outputs": [],
   "source": []
  },
  {
   "cell_type": "code",
   "execution_count": null,
   "metadata": {},
   "outputs": [],
   "source": []
  },
  {
   "cell_type": "code",
   "execution_count": 76,
   "metadata": {
    "scrolled": false
   },
   "outputs": [
    {
     "data": {
      "application/vnd.jupyter.widget-view+json": {
       "model_id": "bb6fdcd4faba40a5b5093e3946538f4a",
       "version_major": 2,
       "version_minor": 0
      },
      "text/plain": [
       "HBox(children=(IntProgress(value=0, max=15327), HTML(value='')))"
      ]
     },
     "metadata": {},
     "output_type": "display_data"
    }
   ],
   "source": [
    "classify_many('./data/vidya/person/*.jpg', './data/vidya/screen/*.jpg', 49, './data/y3.csv')"
   ]
  },
  {
   "cell_type": "code",
   "execution_count": null,
   "metadata": {},
   "outputs": [],
   "source": []
  }
 ],
 "metadata": {
  "kernelspec": {
   "display_name": "Python 3",
   "language": "python",
   "name": "python3"
  },
  "language_info": {
   "codemirror_mode": {
    "name": "ipython",
    "version": 3
   },
   "file_extension": ".py",
   "mimetype": "text/x-python",
   "name": "python",
   "nbconvert_exporter": "python",
   "pygments_lexer": "ipython3",
   "version": "3.6.5"
  }
 },
 "nbformat": 4,
 "nbformat_minor": 2
}
